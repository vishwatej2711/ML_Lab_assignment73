{
  "cells": [
    {
      "cell_type": "code",
      "execution_count": null,
      "id": "0e87755e-8a45-4402-aa1a-dc9aaf9af9b7",
      "metadata": {
        "id": "0e87755e-8a45-4402-aa1a-dc9aaf9af9b7",
        "outputId": "c82ca217-c376-4fe6-d25e-bd7b49b69af6"
      },
      "outputs": [
        {
          "name": "stdout",
          "output_type": "stream",
          "text": [
            "Requirement already satisfied: mlxtend in c:\\users\\ml\\anaconda3\\lib\\site-packages (0.23.4)\n",
            "Requirement already satisfied: scipy>=1.2.1 in c:\\users\\ml\\anaconda3\\lib\\site-packages (from mlxtend) (1.11.4)\n",
            "Requirement already satisfied: numpy>=1.16.2 in c:\\users\\ml\\anaconda3\\lib\\site-packages (from mlxtend) (1.26.4)\n",
            "Requirement already satisfied: pandas>=0.24.2 in c:\\users\\ml\\anaconda3\\lib\\site-packages (from mlxtend) (2.1.4)\n",
            "Requirement already satisfied: scikit-learn>=1.3.1 in c:\\users\\ml\\anaconda3\\lib\\site-packages (from mlxtend) (1.6.1)\n",
            "Requirement already satisfied: matplotlib>=3.0.0 in c:\\users\\ml\\anaconda3\\lib\\site-packages (from mlxtend) (3.8.0)\n",
            "Requirement already satisfied: joblib>=0.13.2 in c:\\users\\ml\\anaconda3\\lib\\site-packages (from mlxtend) (1.2.0)\n",
            "Requirement already satisfied: contourpy>=1.0.1 in c:\\users\\ml\\anaconda3\\lib\\site-packages (from matplotlib>=3.0.0->mlxtend) (1.2.0)\n",
            "Requirement already satisfied: cycler>=0.10 in c:\\users\\ml\\anaconda3\\lib\\site-packages (from matplotlib>=3.0.0->mlxtend) (0.11.0)\n",
            "Requirement already satisfied: fonttools>=4.22.0 in c:\\users\\ml\\anaconda3\\lib\\site-packages (from matplotlib>=3.0.0->mlxtend) (4.25.0)\n",
            "Requirement already satisfied: kiwisolver>=1.0.1 in c:\\users\\ml\\anaconda3\\lib\\site-packages (from matplotlib>=3.0.0->mlxtend) (1.4.4)\n",
            "Requirement already satisfied: packaging>=20.0 in c:\\users\\ml\\anaconda3\\lib\\site-packages (from matplotlib>=3.0.0->mlxtend) (23.1)\n",
            "Requirement already satisfied: pillow>=6.2.0 in c:\\users\\ml\\anaconda3\\lib\\site-packages (from matplotlib>=3.0.0->mlxtend) (10.2.0)\n",
            "Requirement already satisfied: pyparsing>=2.3.1 in c:\\users\\ml\\anaconda3\\lib\\site-packages (from matplotlib>=3.0.0->mlxtend) (3.0.9)\n",
            "Requirement already satisfied: python-dateutil>=2.7 in c:\\users\\ml\\anaconda3\\lib\\site-packages (from matplotlib>=3.0.0->mlxtend) (2.8.2)\n",
            "Requirement already satisfied: pytz>=2020.1 in c:\\users\\ml\\anaconda3\\lib\\site-packages (from pandas>=0.24.2->mlxtend) (2023.3.post1)\n",
            "Requirement already satisfied: tzdata>=2022.1 in c:\\users\\ml\\anaconda3\\lib\\site-packages (from pandas>=0.24.2->mlxtend) (2023.3)\n",
            "Requirement already satisfied: threadpoolctl>=3.1.0 in c:\\users\\ml\\anaconda3\\lib\\site-packages (from scikit-learn>=1.3.1->mlxtend) (3.5.0)\n",
            "Requirement already satisfied: six>=1.5 in c:\\users\\ml\\anaconda3\\lib\\site-packages (from python-dateutil>=2.7->matplotlib>=3.0.0->mlxtend) (1.16.0)\n",
            "Note: you may need to restart the kernel to use updated packages.\n"
          ]
        }
      ],
      "source": [
        "pip install mlxtend"
      ]
    },
    {
      "cell_type": "code",
      "execution_count": null,
      "id": "32492fe3-8469-4d03-8b87-61171ce75211",
      "metadata": {
        "id": "32492fe3-8469-4d03-8b87-61171ce75211",
        "outputId": "098c5fea-282f-4464-a660-92c57338002b"
      },
      "outputs": [
        {
          "name": "stdout",
          "output_type": "stream",
          "text": [
            "Frequent Itemsets:\n",
            "   support  itemsets\n",
            "0      0.8   (bread)\n",
            "1      0.6  (butter)\n",
            "2      0.6    (milk)\n",
            "\n",
            "Association Rules:\n",
            "Empty DataFrame\n",
            "Columns: [antecedents, consequents, support, confidence, lift]\n",
            "Index: []\n"
          ]
        }
      ],
      "source": [
        "import pandas as pd\n",
        "from mlxtend.frequent_patterns import apriori, association_rules\n",
        "\n",
        "# Example transaction data\n",
        "dataset = [\n",
        "    ['milk', 'bread', 'butter'],\n",
        "    ['bread', 'butter'],\n",
        "    ['milk', 'bread'],\n",
        "    ['milk', 'butter'],\n",
        "    ['bread']\n",
        "]\n",
        "\n",
        "# Convert to one-hot encoded DataFrame\n",
        "from mlxtend.preprocessing import TransactionEncoder\n",
        "te = TransactionEncoder()\n",
        "te_ary = te.fit(dataset).transform(dataset)\n",
        "df = pd.DataFrame(te_ary, columns=te.columns_)\n",
        "\n",
        "# Step 1: Find frequent itemsets\n",
        "frequent_itemsets = apriori(df, min_support=0.6, use_colnames=True)\n",
        "\n",
        "# Step 2: Generate association rules\n",
        "rules = association_rules(frequent_itemsets, metric=\"confidence\", min_threshold=0.7)\n",
        "\n",
        "print(\"Frequent Itemsets:\")\n",
        "print(frequent_itemsets)\n",
        "\n",
        "print(\"\\nAssociation Rules:\")\n",
        "print(rules[['antecedents', 'consequents', 'support', 'confidence', 'lift']])\n"
      ]
    },
    {
      "cell_type": "code",
      "execution_count": null,
      "id": "fac83c30-49dc-47b4-a7ee-d26d2cca23b0",
      "metadata": {
        "id": "fac83c30-49dc-47b4-a7ee-d26d2cca23b0",
        "outputId": "ba2b5ad5-3d23-4c4d-be73-a8c4097d4a03"
      },
      "outputs": [
        {
          "data": {
            "text/html": [
              "<div>\n",
              "<style scoped>\n",
              "    .dataframe tbody tr th:only-of-type {\n",
              "        vertical-align: middle;\n",
              "    }\n",
              "\n",
              "    .dataframe tbody tr th {\n",
              "        vertical-align: top;\n",
              "    }\n",
              "\n",
              "    .dataframe thead th {\n",
              "        text-align: right;\n",
              "    }\n",
              "</style>\n",
              "<table border=\"1\" class=\"dataframe\">\n",
              "  <thead>\n",
              "    <tr style=\"text-align: right;\">\n",
              "      <th></th>\n",
              "      <th>TransactionID</th>\n",
              "      <th>Item</th>\n",
              "    </tr>\n",
              "  </thead>\n",
              "  <tbody>\n",
              "    <tr>\n",
              "      <th>0</th>\n",
              "      <td>1</td>\n",
              "      <td>milk,bread,eggs</td>\n",
              "    </tr>\n",
              "    <tr>\n",
              "      <th>1</th>\n",
              "      <td>2</td>\n",
              "      <td>milk,bread</td>\n",
              "    </tr>\n",
              "    <tr>\n",
              "      <th>2</th>\n",
              "      <td>3</td>\n",
              "      <td>milk,cookies</td>\n",
              "    </tr>\n",
              "    <tr>\n",
              "      <th>3</th>\n",
              "      <td>4</td>\n",
              "      <td>bread,butter</td>\n",
              "    </tr>\n",
              "    <tr>\n",
              "      <th>4</th>\n",
              "      <td>5</td>\n",
              "      <td>bread,cookies</td>\n",
              "    </tr>\n",
              "  </tbody>\n",
              "</table>\n",
              "</div>"
            ],
            "text/plain": [
              "   TransactionID             Item\n",
              "0              1  milk,bread,eggs\n",
              "1              2       milk,bread\n",
              "2              3     milk,cookies\n",
              "3              4     bread,butter\n",
              "4              5    bread,cookies"
            ]
          },
          "execution_count": 19,
          "metadata": {},
          "output_type": "execute_result"
        }
      ],
      "source": [
        "import pandas as pd\n",
        "from mlxtend.preprocessing import TransactionEncoder\n",
        "from mlxtend.frequent_patterns import apriori, association_rules\n",
        "\n",
        "# Step 1: Load dataset\n",
        "df = pd.read_csv('transactions2.csv')\n",
        "df.head()\n"
      ]
    },
    {
      "cell_type": "code",
      "execution_count": null,
      "id": "3f1007ba-db8e-4384-a217-adb93e52f44e",
      "metadata": {
        "id": "3f1007ba-db8e-4384-a217-adb93e52f44e",
        "outputId": "abb41add-0001-4715-d888-0f77d46bb652"
      },
      "outputs": [
        {
          "name": "stdout",
          "output_type": "stream",
          "text": [
            "📦 Frequent Itemsets:\n",
            "    support         itemsets\n",
            "0  0.833333          (bread)\n",
            "1  0.666667         (butter)\n",
            "2  0.666667           (milk)\n",
            "3  0.500000  (butter, bread)\n",
            "4  0.500000    (milk, bread)\n",
            "5  0.500000   (butter, milk)\n",
            "\n",
            "📈 Association Rules:\n",
            "  antecedents consequents  support  confidence   lift\n",
            "0    (butter)     (bread)      0.5        0.75  0.900\n",
            "1      (milk)     (bread)      0.5        0.75  0.900\n",
            "2    (butter)      (milk)      0.5        0.75  1.125\n",
            "3      (milk)    (butter)      0.5        0.75  1.125\n"
          ]
        }
      ],
      "source": [
        "import pandas as pd\n",
        "from mlxtend.preprocessing import TransactionEncoder\n",
        "from mlxtend.frequent_patterns import apriori, association_rules\n",
        "\n",
        "# Sample transaction dataset\n",
        "dataset = [\n",
        "    ['milk', 'bread', 'butter'],\n",
        "    ['bread', 'butter'],\n",
        "    ['milk', 'bread'],\n",
        "    ['milk', 'butter'],\n",
        "    ['bread', 'jam'],\n",
        "    ['milk', 'bread', 'butter', 'jam']\n",
        "]\n",
        "\n",
        "# Step 1: Convert dataset to one-hot encoded format\n",
        "te = TransactionEncoder()\n",
        "te_array = te.fit(dataset).transform(dataset)\n",
        "df = pd.DataFrame(te_array, columns=te.columns_)\n",
        "\n",
        "# Step 2: Find frequent itemsets\n",
        "frequent_itemsets = apriori(df, min_support=0.5, use_colnames=True)\n",
        "\n",
        "# Step 3: Generate association rules\n",
        "rules = association_rules(frequent_itemsets, metric='confidence', min_threshold=0.7)\n",
        "\n",
        "# Print Results\n",
        "print(\"📦 Frequent Itemsets:\")\n",
        "print(frequent_itemsets)\n",
        "\n",
        "print(\"\\n📈 Association Rules:\")\n",
        "print(rules[['antecedents', 'consequents', 'support', 'confidence', 'lift']])\n"
      ]
    },
    {
      "cell_type": "code",
      "execution_count": null,
      "id": "0926412c-b786-4f47-89af-426f5f349d32",
      "metadata": {
        "id": "0926412c-b786-4f47-89af-426f5f349d32",
        "outputId": "027d570d-411a-4803-cdc4-bdff8c4ffb1e"
      },
      "outputs": [
        {
          "name": "stdout",
          "output_type": "stream",
          "text": [
            "✅ Frequent Itemsets:\n",
            "   support         itemsets\n",
            "0    0.750          (bread)\n",
            "1    0.375         (butter)\n",
            "2    0.500        (cookies)\n",
            "3    0.625           (milk)\n",
            "4    0.375  (butter, bread)\n",
            "5    0.375    (milk, bread)\n",
            "\n",
            "🔗 Association Rules:\n",
            "  antecedents consequents  support  confidence      lift\n",
            "0    (butter)     (bread)    0.375         1.0  1.333333\n",
            "1     (bread)    (butter)    0.375         0.5  1.333333\n",
            "2      (milk)     (bread)    0.375         0.6  0.800000\n",
            "3     (bread)      (milk)    0.375         0.5  0.800000\n"
          ]
        }
      ],
      "source": [
        "import pandas as pd\n",
        "from mlxtend.preprocessing import TransactionEncoder\n",
        "from mlxtend.frequent_patterns import apriori, association_rules\n",
        "\n",
        "# Step 1: Load dataset\n",
        "df = pd.read_csv('transactions2.csv')\n",
        "df.head()\n",
        "\n",
        "# Step 2: Convert the 'Items' column into a list of lists\n",
        "transactions = df['Item'].apply(lambda x: x.split(','))\n",
        "\n",
        "# Step 3: One-hot encode the transactions\n",
        "te = TransactionEncoder()\n",
        "te_array = te.fit(transactions).transform(transactions)\n",
        "df_encoded = pd.DataFrame(te_array, columns=te.columns_)\n",
        "\n",
        "# Step 4: Apply Apriori algorithm\n",
        "frequent_itemsets = apriori(df_encoded, min_support=0.3, use_colnames=True)\n",
        "\n",
        "# Step 5: Generate association rules\n",
        "rules = association_rules(frequent_itemsets, metric='confidence', min_threshold=0.3)\n",
        "\n",
        "# Step 6: Display results\n",
        "print(\"✅ Frequent Itemsets:\")\n",
        "print(frequent_itemsets)\n",
        "\n",
        "print(\"\\n🔗 Association Rules:\")\n",
        "print(rules[['antecedents', 'consequents', 'support', 'confidence', 'lift']])\n"
      ]
    },
    {
      "cell_type": "code",
      "execution_count": null,
      "id": "26adbe65-fdd9-4e24-9f81-794967756743",
      "metadata": {
        "id": "26adbe65-fdd9-4e24-9f81-794967756743"
      },
      "outputs": [],
      "source": []
    }
  ],
  "metadata": {
    "kernelspec": {
      "display_name": "Python 3 (ipykernel)",
      "language": "python",
      "name": "python3"
    },
    "language_info": {
      "codemirror_mode": {
        "name": "ipython",
        "version": 3
      },
      "file_extension": ".py",
      "mimetype": "text/x-python",
      "name": "python",
      "nbconvert_exporter": "python",
      "pygments_lexer": "ipython3",
      "version": "3.11.7"
    },
    "colab": {
      "provenance": []
    }
  },
  "nbformat": 4,
  "nbformat_minor": 5
}